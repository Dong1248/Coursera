{
 "cells": [
  {
   "cell_type": "markdown",
   "id": "ba2dac77-e22a-4885-bed4-3e920710c1b2",
   "metadata": {},
   "source": [
    "# Data Science Tools and Ecosystem"
   ]
  },
  {
   "cell_type": "markdown",
   "id": "bccc3bb6-421d-4f0d-a7f7-5dbe62dbc7cd",
   "metadata": {},
   "source": [
    "In this notebook, Data Science Tools and Ecosystem are summarized."
   ]
  },
  {
   "cell_type": "markdown",
   "id": "ea854cc9-e045-4644-8469-207305f395dc",
   "metadata": {},
   "source": [
    "Some of the popular languages that Data Scientists use are:\n",
    "1. python\n",
    "1. sql\n",
    "1. r"
   ]
  },
  {
   "cell_type": "markdown",
   "id": "4b48925d-3bb6-416b-a944-5c4f04d7981c",
   "metadata": {},
   "source": [
    "Some of the commonly used libraries used by Data Scientists include:\n",
    "1. SciPy\n",
    "2. pandas\n",
    "3. numpy"
   ]
  },
  {
   "cell_type": "markdown",
   "id": "8ee4a59b-ff18-460a-a407-8f45d0646af3",
   "metadata": {},
   "source": [
    "| Data Science Tools|\n",
    "| --- |\n",
    "| Scikit Learn |\n",
    "| SAS |\n",
    "| Jupyter Notebook |"
   ]
  },
  {
   "cell_type": "markdown",
   "id": "474b9fbc-1064-48b8-bed9-c9355bdeec31",
   "metadata": {},
   "source": [
    "### Below are a few examples of evaluating arithmetic expressions in Python"
   ]
  },
  {
   "cell_type": "code",
   "execution_count": 1,
   "id": "80c69aef-a091-42ff-bf3e-6e229083655f",
   "metadata": {},
   "outputs": [
    {
     "data": {
      "text/plain": [
       "17"
      ]
     },
     "execution_count": 1,
     "metadata": {},
     "output_type": "execute_result"
    }
   ],
   "source": [
    "(3*4)+5\n",
    "# This a simple arithmetic expression to mutiply then add integers"
   ]
  },
  {
   "cell_type": "code",
   "execution_count": 2,
   "id": "2902e1e8-afbb-420c-ac72-616dc7b4aad6",
   "metadata": {},
   "outputs": [
    {
     "name": "stdout",
     "output_type": "stream",
     "text": [
      "3.3333333333333335\n"
     ]
    }
   ],
   "source": [
    "mins=200\n",
    "hours=mins/60\n",
    "print(hours)\n",
    "# This will convert 200 minutes to hours by diving by 60"
   ]
  },
  {
   "cell_type": "markdown",
   "id": "b1087ffa-04dc-4a63-91cf-75871eea786f",
   "metadata": {},
   "source": [
    "__Objectives:__\n",
    "- List popular languages for Data Science\n",
    "- commonly used libraries in Data Science\n",
    "- syntax in markdown"
   ]
  },
  {
   "cell_type": "markdown",
   "id": "e82aaad5-5eb2-4a08-bdd8-d5052ff02820",
   "metadata": {},
   "source": [
    "## Author\n",
    "Dong"
   ]
  },
  {
   "cell_type": "code",
   "execution_count": null,
   "id": "179e2d34-2882-4a57-8a10-5a92df1af89f",
   "metadata": {},
   "outputs": [],
   "source": []
  }
 ],
 "metadata": {
  "kernelspec": {
   "display_name": "Python 3 (ipykernel)",
   "language": "python",
   "name": "python3"
  },
  "language_info": {
   "codemirror_mode": {
    "name": "ipython",
    "version": 3
   },
   "file_extension": ".py",
   "mimetype": "text/x-python",
   "name": "python",
   "nbconvert_exporter": "python",
   "pygments_lexer": "ipython3",
   "version": "3.9.13"
  }
 },
 "nbformat": 4,
 "nbformat_minor": 5
}
